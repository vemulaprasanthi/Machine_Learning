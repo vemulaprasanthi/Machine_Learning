{
  "nbformat": 4,
  "nbformat_minor": 0,
  "metadata": {
    "colab": {
      "provenance": [],
      "authorship_tag": "ABX9TyMy9KOCmrjkHxztmFeQ8O1d",
      "include_colab_link": true
    },
    "kernelspec": {
      "name": "python3",
      "display_name": "Python 3"
    },
    "language_info": {
      "name": "python"
    }
  },
  "cells": [
    {
      "cell_type": "markdown",
      "metadata": {
        "id": "view-in-github",
        "colab_type": "text"
      },
      "source": [
        "<a href=\"https://colab.research.google.com/github/vemulaprasanthi/Machine_Learning/blob/main/Exp6.ipynb\" target=\"_parent\"><img src=\"https://colab.research.google.com/assets/colab-badge.svg\" alt=\"Open In Colab\"/></a>"
      ]
    },
    {
      "cell_type": "code",
      "execution_count": 9,
      "metadata": {
        "colab": {
          "base_uri": "https://localhost:8080/"
        },
        "id": "akgEP8LIXa6C",
        "outputId": "14831c12-b2e8-44eb-8890-9c2a256c35e4"
      },
      "outputs": [
        {
          "output_type": "stream",
          "name": "stdout",
          "text": [
            "Original Employee Data:\n",
            "   Employee id Gender Remarks\n",
            "0           10      M    Good\n",
            "1           20      F    Nice\n",
            "2           15      F    Good\n",
            "3           25      M   Great\n",
            "4           30      F    Nice\n",
            "\n",
            "One-Hot Encoded Data using Pandas:\n",
            "   Employee id  Gender_M  Remarks_Great  Remarks_Nice\n",
            "0           10      True          False         False\n",
            "1           20     False          False          True\n",
            "2           15     False          False         False\n",
            "3           25      True           True         False\n",
            "4           30     False          False          True\n",
            "\n",
            "One-Hot Encoded Data using Scikit-Learn:\n",
            "   Employee id  Gender_M  Remarks_Great  Remarks_Nice\n",
            "0           10       1.0            0.0           0.0\n",
            "1           20       0.0            0.0           1.0\n",
            "2           15       0.0            0.0           0.0\n",
            "3           25       1.0            1.0           0.0\n",
            "4           30       0.0            0.0           1.0\n",
            "\n"
          ]
        }
      ],
      "source": [
        "import pandas as pd\n",
        "from sklearn.preprocessing import OneHotEncoder\n",
        "\n",
        "# Sample dataset\n",
        "data = {\n",
        "    'Employee id': [10, 20, 15, 25, 30],\n",
        "    'Gender': ['M', 'F', 'F', 'M', 'F'],\n",
        "    'Remarks': ['Good', 'Nice', 'Good', 'Great', 'Nice']\n",
        "}\n",
        "\n",
        "df = pd.DataFrame(data)\n",
        "print(f\"Original Employee Data:\\n{df}\\n\")\n",
        "\n",
        "# Using Pandas get_dummies()\n",
        "df_pandas_encoded = pd.get_dummies(df, columns=['Gender', 'Remarks'], drop_first=True)\n",
        "print(f\"One-Hot Encoded Data using Pandas:\\n{df_pandas_encoded}\\n\")\n",
        "\n",
        "# Define categorical columns (IMPORTANT: Define before using it!)\n",
        "categorical_columns = ['Gender', 'Remarks']\n",
        "\n",
        "# Initialize OneHotEncoder (Ensure proper configuration)\n",
        "encoder = OneHotEncoder(drop='first', sparse_output=False)\n",
        "\n",
        "# Fit and transform categorical data\n",
        "one_hot_encoded = encoder.fit_transform(df[categorical_columns])\n",
        "\n",
        "# Create a DataFrame with the new columns\n",
        "one_hot_df = pd.DataFrame(one_hot_encoded, columns=encoder.get_feature_names_out(categorical_columns))\n",
        "\n",
        "# Concatenate the encoded data with the original DataFrame (excluding the original categorical columns)\n",
        "df_sklearn_encoded = pd.concat([df.drop(categorical_columns, axis=1), one_hot_df], axis=1)\n",
        "\n",
        "print(f\"One-Hot Encoded Data using Scikit-Learn:\\n{df_sklearn_encoded}\\n\")\n"
      ]
    }
  ]
}